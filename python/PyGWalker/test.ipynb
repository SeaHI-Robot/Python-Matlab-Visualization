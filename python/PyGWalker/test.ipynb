{
 "cells": [
  {
   "cell_type": "markdown",
   "metadata": {},
   "source": [
    "# PyGWalker"
   ]
  },
  {
   "cell_type": "code",
   "execution_count": 2,
   "metadata": {},
   "outputs": [
    {
     "name": "stdout",
     "output_type": "stream",
     "text": [
      "Looking in indexes: https://mirrors.aliyun.com/pypi/simple/\n",
      "Requirement already satisfied: pygwalker in e:\\miniconda3\\lib\\site-packages (0.3.5)\n",
      "Requirement already satisfied: jinja2 in e:\\miniconda3\\lib\\site-packages (from pygwalker) (3.1.2)\n",
      "Requirement already satisfied: astor in e:\\miniconda3\\lib\\site-packages (from pygwalker) (0.8.1)\n",
      "Requirement already satisfied: duckdb in e:\\miniconda3\\lib\\site-packages (from pygwalker) (0.8.1)\n",
      "Requirement already satisfied: typing-extensions in e:\\miniconda3\\lib\\site-packages (from pygwalker) (4.5.0)\n",
      "Requirement already satisfied: pyarrow in e:\\miniconda3\\lib\\site-packages (from pygwalker) (13.0.0)\n",
      "Requirement already satisfied: sqlglot in e:\\miniconda3\\lib\\site-packages (from pygwalker) (18.1.0)\n",
      "Requirement already satisfied: ipython in e:\\miniconda3\\lib\\site-packages (from pygwalker) (8.13.2)\n",
      "Requirement already satisfied: requests in e:\\miniconda3\\lib\\site-packages (from pygwalker) (2.28.2)\n",
      "Requirement already satisfied: pydantic in e:\\miniconda3\\lib\\site-packages (from pygwalker) (1.10.6)\n",
      "Requirement already satisfied: psutil in c:\\users\\allenwong\\appdata\\roaming\\python\\python39\\site-packages (from pygwalker) (5.9.4)\n",
      "Requirement already satisfied: ipywidgets in e:\\miniconda3\\lib\\site-packages (from pygwalker) (8.0.4)\n",
      "Requirement already satisfied: decorator in e:\\miniconda3\\lib\\site-packages (from ipython->pygwalker) (5.1.1)\n",
      "Requirement already satisfied: pygments>=2.4.0 in c:\\users\\allenwong\\appdata\\roaming\\python\\python39\\site-packages (from ipython->pygwalker) (2.14.0)\n",
      "Requirement already satisfied: traitlets>=5 in c:\\users\\allenwong\\appdata\\roaming\\python\\python39\\site-packages (from ipython->pygwalker) (5.9.0)\n",
      "Requirement already satisfied: matplotlib-inline in c:\\users\\allenwong\\appdata\\roaming\\python\\python39\\site-packages (from ipython->pygwalker) (0.1.6)\n",
      "Requirement already satisfied: prompt-toolkit!=3.0.37,<3.1.0,>=3.0.30 in c:\\users\\allenwong\\appdata\\roaming\\python\\python39\\site-packages (from ipython->pygwalker) (3.0.38)\n",
      "Requirement already satisfied: jedi>=0.16 in c:\\users\\allenwong\\appdata\\roaming\\python\\python39\\site-packages (from ipython->pygwalker) (0.18.2)\n",
      "Requirement already satisfied: stack-data in c:\\users\\allenwong\\appdata\\roaming\\python\\python39\\site-packages (from ipython->pygwalker) (0.6.2)\n",
      "Requirement already satisfied: colorama in c:\\users\\allenwong\\appdata\\roaming\\python\\python39\\site-packages (from ipython->pygwalker) (0.4.6)\n",
      "Requirement already satisfied: backcall in c:\\users\\allenwong\\appdata\\roaming\\python\\python39\\site-packages (from ipython->pygwalker) (0.2.0)\n",
      "Requirement already satisfied: pickleshare in c:\\users\\allenwong\\appdata\\roaming\\python\\python39\\site-packages (from ipython->pygwalker) (0.7.5)\n",
      "Requirement already satisfied: ipykernel>=4.5.1 in c:\\users\\allenwong\\appdata\\roaming\\python\\python39\\site-packages (from ipywidgets->pygwalker) (6.21.3)\n",
      "Requirement already satisfied: jupyterlab-widgets~=3.0 in e:\\miniconda3\\lib\\site-packages (from ipywidgets->pygwalker) (3.0.5)\n",
      "Requirement already satisfied: widgetsnbextension~=4.0 in e:\\miniconda3\\lib\\site-packages (from ipywidgets->pygwalker) (4.0.5)\n",
      "Requirement already satisfied: MarkupSafe>=2.0 in e:\\miniconda3\\lib\\site-packages (from jinja2->pygwalker) (2.1.2)\n",
      "Requirement already satisfied: numpy>=1.16.6 in e:\\miniconda3\\lib\\site-packages (from pyarrow->pygwalker) (1.21.5)\n",
      "Requirement already satisfied: urllib3<1.27,>=1.21.1 in e:\\miniconda3\\lib\\site-packages (from requests->pygwalker) (1.26.16)\n",
      "Requirement already satisfied: idna<4,>=2.5 in e:\\miniconda3\\lib\\site-packages (from requests->pygwalker) (2.10)\n",
      "Requirement already satisfied: charset-normalizer<4,>=2 in e:\\miniconda3\\lib\\site-packages (from requests->pygwalker) (2.0.4)\n",
      "Requirement already satisfied: certifi>=2017.4.17 in e:\\miniconda3\\lib\\site-packages (from requests->pygwalker) (2022.12.7)\n",
      "Requirement already satisfied: debugpy>=1.6.5 in c:\\users\\allenwong\\appdata\\roaming\\python\\python39\\site-packages (from ipykernel>=4.5.1->ipywidgets->pygwalker) (1.6.6)\n",
      "Requirement already satisfied: jupyter-client>=6.1.12 in c:\\users\\allenwong\\appdata\\roaming\\python\\python39\\site-packages (from ipykernel>=4.5.1->ipywidgets->pygwalker) (8.0.3)\n",
      "Requirement already satisfied: packaging in c:\\users\\allenwong\\appdata\\roaming\\python\\python39\\site-packages (from ipykernel>=4.5.1->ipywidgets->pygwalker) (23.0)\n",
      "Requirement already satisfied: pyzmq>=20 in c:\\users\\allenwong\\appdata\\roaming\\python\\python39\\site-packages (from ipykernel>=4.5.1->ipywidgets->pygwalker) (25.0.1)\n",
      "Requirement already satisfied: jupyter-core!=5.0.*,>=4.12 in c:\\users\\allenwong\\appdata\\roaming\\python\\python39\\site-packages (from ipykernel>=4.5.1->ipywidgets->pygwalker) (5.3.0)\n",
      "Requirement already satisfied: tornado>=6.1 in c:\\users\\allenwong\\appdata\\roaming\\python\\python39\\site-packages (from ipykernel>=4.5.1->ipywidgets->pygwalker) (6.2)\n",
      "Requirement already satisfied: comm>=0.1.1 in c:\\users\\allenwong\\appdata\\roaming\\python\\python39\\site-packages (from ipykernel>=4.5.1->ipywidgets->pygwalker) (0.1.2)\n",
      "Requirement already satisfied: nest-asyncio in c:\\users\\allenwong\\appdata\\roaming\\python\\python39\\site-packages (from ipykernel>=4.5.1->ipywidgets->pygwalker) (1.5.6)\n",
      "Requirement already satisfied: parso<0.9.0,>=0.8.0 in c:\\users\\allenwong\\appdata\\roaming\\python\\python39\\site-packages (from jedi>=0.16->ipython->pygwalker) (0.8.3)\n",
      "Requirement already satisfied: wcwidth in c:\\users\\allenwong\\appdata\\roaming\\python\\python39\\site-packages (from prompt-toolkit!=3.0.37,<3.1.0,>=3.0.30->ipython->pygwalker) (0.2.6)\n",
      "Requirement already satisfied: pure-eval in c:\\users\\allenwong\\appdata\\roaming\\python\\python39\\site-packages (from stack-data->ipython->pygwalker) (0.2.2)\n",
      "Requirement already satisfied: asttokens>=2.1.0 in c:\\users\\allenwong\\appdata\\roaming\\python\\python39\\site-packages (from stack-data->ipython->pygwalker) (2.2.1)\n",
      "Requirement already satisfied: executing>=1.2.0 in c:\\users\\allenwong\\appdata\\roaming\\python\\python39\\site-packages (from stack-data->ipython->pygwalker) (1.2.0)\n",
      "Requirement already satisfied: six in c:\\users\\allenwong\\appdata\\roaming\\python\\python39\\site-packages (from asttokens>=2.1.0->stack-data->ipython->pygwalker) (1.16.0)\n",
      "Requirement already satisfied: python-dateutil>=2.8.2 in c:\\users\\allenwong\\appdata\\roaming\\python\\python39\\site-packages (from jupyter-client>=6.1.12->ipykernel>=4.5.1->ipywidgets->pygwalker) (2.8.2)\n",
      "Requirement already satisfied: importlib-metadata>=4.8.3 in c:\\users\\allenwong\\appdata\\roaming\\python\\python39\\site-packages (from jupyter-client>=6.1.12->ipykernel>=4.5.1->ipywidgets->pygwalker) (6.1.0)\n",
      "Requirement already satisfied: platformdirs>=2.5 in c:\\users\\allenwong\\appdata\\roaming\\python\\python39\\site-packages (from jupyter-core!=5.0.*,>=4.12->ipykernel>=4.5.1->ipywidgets->pygwalker) (3.1.1)\n",
      "Requirement already satisfied: pywin32>=300 in c:\\users\\allenwong\\appdata\\roaming\\python\\python39\\site-packages (from jupyter-core!=5.0.*,>=4.12->ipykernel>=4.5.1->ipywidgets->pygwalker) (305)\n",
      "Requirement already satisfied: zipp>=0.5 in c:\\users\\allenwong\\appdata\\roaming\\python\\python39\\site-packages (from importlib-metadata>=4.8.3->jupyter-client>=6.1.12->ipykernel>=4.5.1->ipywidgets->pygwalker) (3.15.0)\n"
     ]
    }
   ],
   "source": [
    "!pip install pygwalker"
   ]
  },
  {
   "cell_type": "markdown",
   "metadata": {},
   "source": [
    "随机生成一个csv"
   ]
  },
  {
   "cell_type": "code",
   "execution_count": 8,
   "metadata": {},
   "outputs": [
    {
     "name": "stdout",
     "output_type": "stream",
     "text": [
      "生成的CSV文件已保存为 random_data.csv\n"
     ]
    }
   ],
   "source": [
    "import csv\n",
    "import random\n",
    "\n",
    "# 生成随机数据示例\n",
    "def generate_random_data():\n",
    "    return {\n",
    "        'Name': ''.join(random.choice('ABCDEFGHIJKLMNOPQRSTUVWXYZ') for _ in range(5)),\n",
    "        'Age': random.randint(18, 60),\n",
    "        'Score': round(random.uniform(0, 100), 2)\n",
    "    }\n",
    "\n",
    "# 生成CSV文件\n",
    "def generate_csv_file(filename, num_rows):\n",
    "    with open(filename, mode='w', newline='') as file:\n",
    "        fieldnames = ['Name', 'Age', 'Score']\n",
    "        writer = csv.DictWriter(file, fieldnames=fieldnames)\n",
    "        \n",
    "        writer.writeheader()\n",
    "        for _ in range(num_rows):\n",
    "            writer.writerow(generate_random_data())\n",
    "\n",
    "if __name__ == '__main__':\n",
    "    filename = 'random_data.csv'\n",
    "    num_rows = 10  # 你可以设置要生成的行数\n",
    "    generate_csv_file(filename, num_rows)\n",
    "    print(f'生成的CSV文件已保存为 {filename}')"
   ]
  },
  {
   "cell_type": "code",
   "execution_count": 10,
   "metadata": {},
   "outputs": [
    {
     "data": {
      "text/html": [
       "<div>\n",
       "<style scoped>\n",
       "    .dataframe tbody tr th:only-of-type {\n",
       "        vertical-align: middle;\n",
       "    }\n",
       "\n",
       "    .dataframe tbody tr th {\n",
       "        vertical-align: top;\n",
       "    }\n",
       "\n",
       "    .dataframe thead th {\n",
       "        text-align: right;\n",
       "    }\n",
       "</style>\n",
       "<table border=\"1\" class=\"dataframe\">\n",
       "  <thead>\n",
       "    <tr style=\"text-align: right;\">\n",
       "      <th></th>\n",
       "      <th>Name</th>\n",
       "      <th>Age</th>\n",
       "      <th>Score</th>\n",
       "    </tr>\n",
       "  </thead>\n",
       "  <tbody>\n",
       "    <tr>\n",
       "      <th>0</th>\n",
       "      <td>CNSQX</td>\n",
       "      <td>38</td>\n",
       "      <td>55.14</td>\n",
       "    </tr>\n",
       "    <tr>\n",
       "      <th>1</th>\n",
       "      <td>NALVE</td>\n",
       "      <td>25</td>\n",
       "      <td>77.20</td>\n",
       "    </tr>\n",
       "    <tr>\n",
       "      <th>2</th>\n",
       "      <td>XARPU</td>\n",
       "      <td>33</td>\n",
       "      <td>9.94</td>\n",
       "    </tr>\n",
       "    <tr>\n",
       "      <th>3</th>\n",
       "      <td>ALBDP</td>\n",
       "      <td>58</td>\n",
       "      <td>75.72</td>\n",
       "    </tr>\n",
       "    <tr>\n",
       "      <th>4</th>\n",
       "      <td>FVHER</td>\n",
       "      <td>48</td>\n",
       "      <td>31.99</td>\n",
       "    </tr>\n",
       "  </tbody>\n",
       "</table>\n",
       "</div>"
      ],
      "text/plain": [
       "    Name  Age  Score\n",
       "0  CNSQX   38  55.14\n",
       "1  NALVE   25  77.20\n",
       "2  XARPU   33   9.94\n",
       "3  ALBDP   58  75.72\n",
       "4  FVHER   48  31.99"
      ]
     },
     "execution_count": 10,
     "metadata": {},
     "output_type": "execute_result"
    }
   ],
   "source": [
    "import pandas as pd\n",
    "import pygwalker as pyg\n",
    "\n",
    "df = pd.read_csv( 'random_data.csv' )\n",
    "df.head()"
   ]
  },
  {
   "cell_type": "code",
   "execution_count": 11,
   "metadata": {},
   "outputs": [
    {
     "data": {
      "application/vnd.jupyter.widget-view+json": {
       "model_id": "8c98cbd4cd5d45b08899de7234a0554c",
       "version_major": 2,
       "version_minor": 0
      },
      "text/plain": [
       "Box(children=(HTML(value='<div id=\"ifr-pyg-0\" style=\"height: auto\">\\n    <head>\\n        <meta http-equiv=\"Con…"
      ]
     },
     "metadata": {},
     "output_type": "display_data"
    },
    {
     "data": {
      "text/html": [
       "<html>\n",
       "<style>\n",
       ".tabs{\n",
       "    position:relative;\n",
       "    height:660px;\n",
       "}\n",
       ".tab-pane{\n",
       "    display:inline-block;\n",
       "}\n",
       ".tabs input[type='radio']{\n",
       "    position:absolute;\n",
       "    clip:rect(0,0,0,0)\n",
       "}\n",
       ".tab-item{\n",
       "    display:block;\n",
       "    height:34px;\n",
       "    line-height:34px;\n",
       "    cursor:pointer;\n",
       "    padding:0 10px\n",
       "}\n",
       "\n",
       ".tabs input[type='radio']:checked+.tab-item{\n",
       "    background:#2563eb;\n",
       "    color:#fff\n",
       "}\n",
       "\n",
       ".tab-content{\n",
       "    display: none;\n",
       "    position:absolute;\n",
       "    left:0;\n",
       "    top:56px;\n",
       "    bottom:0;\n",
       "    right:0;\n",
       "}\n",
       "\n",
       ".tabs input[type='radio']:checked+.tab-item+.tab-content{\n",
       "    display: block;\n",
       "}\n",
       "</style>\n",
       "\n",
       "<body>\n",
       "    <div id=\"pygwalker-preview-0\">\n",
       "        <div class=\"tabs\">\n",
       "            \n",
       "        </div>\n",
       "    </div>\n",
       "</body>\n",
       "</html>"
      ],
      "text/plain": [
       "<IPython.core.display.HTML object>"
      ]
     },
     "metadata": {},
     "output_type": "display_data"
    }
   ],
   "source": [
    "gwalker = pyg.walk(df)"
   ]
  },
  {
   "cell_type": "code",
   "execution_count": null,
   "metadata": {},
   "outputs": [],
   "source": []
  }
 ],
 "metadata": {
  "kernelspec": {
   "display_name": "base",
   "language": "python",
   "name": "python3"
  },
  "language_info": {
   "codemirror_mode": {
    "name": "ipython",
    "version": 3
   },
   "file_extension": ".py",
   "mimetype": "text/x-python",
   "name": "python",
   "nbconvert_exporter": "python",
   "pygments_lexer": "ipython3",
   "version": "3.9.16"
  },
  "orig_nbformat": 4
 },
 "nbformat": 4,
 "nbformat_minor": 2
}
